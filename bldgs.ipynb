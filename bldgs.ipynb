{
 "cells": [
  {
   "cell_type": "code",
   "execution_count": 166,
   "metadata": {
    "collapsed": true
   },
   "outputs": [],
   "source": [
    "import csv\n",
    "\n",
    "bldgs = [\n",
    "    b for b in\n",
    "    csv.reader(open(\"data/found.csv\"))\n",
    "]"
   ]
  },
  {
   "cell_type": "code",
   "execution_count": 167,
   "metadata": {
    "collapsed": true
   },
   "outputs": [],
   "source": [
    "for row in bldgs[1:]:\n",
    "    try:\n",
    "        row[14] = int(row[14])\n",
    "    except ValueError:\n",
    "        row[14] = 0\n",
    "    try:\n",
    "        row[15] = int(row[15])\n",
    "    except ValueError:\n",
    "        row[15] = 0\n",
    "    try:\n",
    "        row[5] = int(row[5])\n",
    "    except ValueError:\n",
    "        row[5] = 0\n",
    "    if \"инд\" in row[8].lower():\n",
    "        row[8] = \"индивидуальный\"\n",
    "    if \"515\" in row[8].lower():\n",
    "        row[8] = \"1-515\"\n",
    "    if \"510\" in row[8].lower():\n",
    "        row[8] = \"1-510\"\n",
    "    if \"511\" in row[8].lower():\n",
    "        row[8] = \"1-511\""
   ]
  },
  {
   "cell_type": "code",
   "execution_count": 168,
   "metadata": {
    "collapsed": true
   },
   "outputs": [],
   "source": [
    "import pandas\n",
    "\n",
    "bldgs = pandas.DataFrame(bldgs[1:], columns=bldgs[0])"
   ]
  },
  {
   "cell_type": "code",
   "execution_count": 169,
   "metadata": {},
   "outputs": [
    {
     "data": {
      "text/html": [
       "<div>\n",
       "<table border=\"1\" class=\"dataframe\">\n",
       "  <thead>\n",
       "    <tr style=\"text-align: right;\">\n",
       "      <th></th>\n",
       "      <th>ADDR</th>\n",
       "      <th>LAT</th>\n",
       "      <th>LON</th>\n",
       "      <th>HOUSE_ID</th>\n",
       "      <th>ADDRESS</th>\n",
       "      <th>YEAR</th>\n",
       "      <th>LASTUPDATE</th>\n",
       "      <th>SERVICEDATE_START</th>\n",
       "      <th>SERIE</th>\n",
       "      <th>HOUSE_TYPE</th>\n",
       "      <th>...</th>\n",
       "      <th>AREA_NONLIVE</th>\n",
       "      <th>AREA_GEN</th>\n",
       "      <th>AREA_LAND</th>\n",
       "      <th>AREA_PARK</th>\n",
       "      <th>CADNO</th>\n",
       "      <th>ENERGY_CLASS</th>\n",
       "      <th>BLAG_PLAYGROUND</th>\n",
       "      <th>BLAG_SPORT</th>\n",
       "      <th>BLAG_OTHER</th>\n",
       "      <th>OTHER</th>\n",
       "    </tr>\n",
       "  </thead>\n",
       "  <tbody>\n",
       "    <tr>\n",
       "      <th>0</th>\n",
       "      <td>город Зеленоград, улица Гоголя, дом 11А</td>\n",
       "      <td>55.987543</td>\n",
       "      <td>37.171487</td>\n",
       "      <td>7720237</td>\n",
       "      <td>г. Москва, г. Зеленоград, ул. Гоголя, д. 11А</td>\n",
       "      <td>1967</td>\n",
       "      <td>28.01.2016 в 08:39</td>\n",
       "      <td>01.03.2015</td>\n",
       "      <td>447/С 12-а/6</td>\n",
       "      <td>Многоквартирный дом</td>\n",
       "      <td>...</td>\n",
       "      <td>975.00</td>\n",
       "      <td>4610.00</td>\n",
       "      <td>2492.00</td>\n",
       "      <td>Незаполнено</td>\n",
       "      <td></td>\n",
       "      <td>C</td>\n",
       "      <td>Имеется</td>\n",
       "      <td>Не имеется</td>\n",
       "      <td>Не заполнено</td>\n",
       "      <td>Не заполнено</td>\n",
       "    </tr>\n",
       "    <tr>\n",
       "      <th>1</th>\n",
       "      <td>город Зеленоград, улица Гоголя, дом 11Б</td>\n",
       "      <td>55.987004</td>\n",
       "      <td>37.171199</td>\n",
       "      <td>7721720</td>\n",
       "      <td>г. Москва, г. Зеленоград, ул. Гоголя, д. 11Б</td>\n",
       "      <td>1969</td>\n",
       "      <td>27.01.2016 в 14:36</td>\n",
       "      <td>01.03.2015</td>\n",
       "      <td>1-447/С12-а/61</td>\n",
       "      <td>Многоквартирный дом</td>\n",
       "      <td>...</td>\n",
       "      <td>668.00</td>\n",
       "      <td>3340.00</td>\n",
       "      <td>1876.00</td>\n",
       "      <td>Незаполнено</td>\n",
       "      <td></td>\n",
       "      <td>C</td>\n",
       "      <td>Имеется</td>\n",
       "      <td>Не имеется</td>\n",
       "      <td>Не заполнено</td>\n",
       "      <td>Не заполнено</td>\n",
       "    </tr>\n",
       "    <tr>\n",
       "      <th>2</th>\n",
       "      <td>город Зеленоград, улица Гоголя, дом 11В</td>\n",
       "      <td>55.986224</td>\n",
       "      <td>37.171774</td>\n",
       "      <td>7721725</td>\n",
       "      <td>г. Москва, г. Зеленоград, ул. Гоголя, д. 11В</td>\n",
       "      <td>1970</td>\n",
       "      <td>28.01.2016 в 08:37</td>\n",
       "      <td>01.03.2015</td>\n",
       "      <td>1-447/С 12-а/61</td>\n",
       "      <td>Многоквартирный дом</td>\n",
       "      <td>...</td>\n",
       "      <td>653.00</td>\n",
       "      <td>3204.00</td>\n",
       "      <td>1726.00</td>\n",
       "      <td>Незаполнено</td>\n",
       "      <td></td>\n",
       "      <td>C</td>\n",
       "      <td>Имеется</td>\n",
       "      <td>Имеется</td>\n",
       "      <td>Не заполнено</td>\n",
       "      <td>Не заполнено</td>\n",
       "    </tr>\n",
       "    <tr>\n",
       "      <th>3</th>\n",
       "      <td>город Зеленоград, корпус 925</td>\n",
       "      <td>55.983424</td>\n",
       "      <td>37.181836</td>\n",
       "      <td>7742561</td>\n",
       "      <td>г. Москва, г. Зеленоград, д. 925</td>\n",
       "      <td>1967</td>\n",
       "      <td>18.02.2016 в 18:13</td>\n",
       "      <td>01.01.2012</td>\n",
       "      <td>1-515</td>\n",
       "      <td>Многоквартирный дом</td>\n",
       "      <td>...</td>\n",
       "      <td>0.00</td>\n",
       "      <td>1265.80</td>\n",
       "      <td>Незаполнено</td>\n",
       "      <td>259.00</td>\n",
       "      <td></td>\n",
       "      <td>C</td>\n",
       "      <td>Имеется</td>\n",
       "      <td>Не имеется</td>\n",
       "      <td>Не заполнено</td>\n",
       "      <td>Не заполнено</td>\n",
       "    </tr>\n",
       "    <tr>\n",
       "      <th>4</th>\n",
       "      <td>город Зеленоград, корпус 926</td>\n",
       "      <td>55.983393</td>\n",
       "      <td>37.182617</td>\n",
       "      <td>7742563</td>\n",
       "      <td>г. Москва, г. Зеленоград, д. 926</td>\n",
       "      <td>1967</td>\n",
       "      <td>18.02.2016 в 18:23</td>\n",
       "      <td>01.01.2012</td>\n",
       "      <td>1-515</td>\n",
       "      <td>Многоквартирный дом</td>\n",
       "      <td>...</td>\n",
       "      <td>0.00</td>\n",
       "      <td>907.60</td>\n",
       "      <td>Незаполнено</td>\n",
       "      <td>273.00</td>\n",
       "      <td></td>\n",
       "      <td>D</td>\n",
       "      <td>Не имеется</td>\n",
       "      <td>Не имеется</td>\n",
       "      <td>Не заполнено</td>\n",
       "      <td>Не заполнено</td>\n",
       "    </tr>\n",
       "  </tbody>\n",
       "</table>\n",
       "<p>5 rows × 32 columns</p>\n",
       "</div>"
      ],
      "text/plain": [
       "                                      ADDR        LAT        LON HOUSE_ID  \\\n",
       "0  город Зеленоград, улица Гоголя, дом 11А  55.987543  37.171487  7720237   \n",
       "1  город Зеленоград, улица Гоголя, дом 11Б  55.987004  37.171199  7721720   \n",
       "2  город Зеленоград, улица Гоголя, дом 11В  55.986224  37.171774  7721725   \n",
       "3             город Зеленоград, корпус 925  55.983424  37.181836  7742561   \n",
       "4             город Зеленоград, корпус 926  55.983393  37.182617  7742563   \n",
       "\n",
       "                                        ADDRESS  YEAR          LASTUPDATE  \\\n",
       "0  г. Москва, г. Зеленоград, ул. Гоголя, д. 11А  1967  28.01.2016 в 08:39   \n",
       "1  г. Москва, г. Зеленоград, ул. Гоголя, д. 11Б  1969  27.01.2016 в 14:36   \n",
       "2  г. Москва, г. Зеленоград, ул. Гоголя, д. 11В  1970  28.01.2016 в 08:37   \n",
       "3              г. Москва, г. Зеленоград, д. 925  1967  18.02.2016 в 18:13   \n",
       "4              г. Москва, г. Зеленоград, д. 926  1967  18.02.2016 в 18:23   \n",
       "\n",
       "  SERVICEDATE_START            SERIE           HOUSE_TYPE      ...       \\\n",
       "0        01.03.2015     447/С 12-а/6  Многоквартирный дом      ...        \n",
       "1        01.03.2015   1-447/С12-а/61  Многоквартирный дом      ...        \n",
       "2        01.03.2015  1-447/С 12-а/61  Многоквартирный дом      ...        \n",
       "3        01.01.2012            1-515  Многоквартирный дом      ...        \n",
       "4        01.01.2012            1-515  Многоквартирный дом      ...        \n",
       "\n",
       "  AREA_NONLIVE AREA_GEN    AREA_LAND    AREA_PARK  CADNO  ENERGY_CLASS  \\\n",
       "0       975.00  4610.00      2492.00  Незаполнено                    C   \n",
       "1       668.00  3340.00      1876.00  Незаполнено                    C   \n",
       "2       653.00  3204.00      1726.00  Незаполнено                    C   \n",
       "3         0.00  1265.80  Незаполнено       259.00                    C   \n",
       "4         0.00   907.60  Незаполнено       273.00                    D   \n",
       "\n",
       "  BLAG_PLAYGROUND  BLAG_SPORT    BLAG_OTHER         OTHER  \n",
       "0         Имеется  Не имеется  Не заполнено  Не заполнено  \n",
       "1         Имеется  Не имеется  Не заполнено  Не заполнено  \n",
       "2         Имеется     Имеется  Не заполнено  Не заполнено  \n",
       "3         Имеется  Не имеется  Не заполнено  Не заполнено  \n",
       "4      Не имеется  Не имеется  Не заполнено  Не заполнено  \n",
       "\n",
       "[5 rows x 32 columns]"
      ]
     },
     "execution_count": 169,
     "metadata": {},
     "output_type": "execute_result"
    }
   ],
   "source": [
    "bldgs.head()"
   ]
  },
  {
   "cell_type": "code",
   "execution_count": 170,
   "metadata": {
    "collapsed": true
   },
   "outputs": [],
   "source": [
    "import matplotlib\n",
    "matplotlib.style.use('ggplot')\n",
    "%matplotlib inline\n",
    "matplotlib.rcParams[\"figure.figsize\"] = (14,8)"
   ]
  },
  {
   "cell_type": "code",
   "execution_count": 171,
   "metadata": {},
   "outputs": [
    {
     "data": {
      "text/plain": [
       "<matplotlib.axes._subplots.AxesSubplot at 0x7f03290b39b0>"
      ]
     },
     "execution_count": 171,
     "metadata": {},
     "output_type": "execute_result"
    },
    {
     "data": {
      "image/png": "[encoded data removed]",
      "text/plain": [
       "<matplotlib.figure.Figure at 0x7f03290a9908>"
      ]
     },
     "metadata": {},
     "output_type": "display_data"
    }
   ],
   "source": [
    "bldgs.groupby(\"YEAR\").ADDR.nunique().plot.bar()"
   ]
  },
  {
   "cell_type": "code",
   "execution_count": 172,
   "metadata": {},
   "outputs": [
    {
     "data": {
      "text/plain": [
       "<matplotlib.axes._subplots.AxesSubplot at 0x7f03290f38d0>"
      ]
     },
     "execution_count": 172,
     "metadata": {},
     "output_type": "execute_result"
    },
    {
     "data": {
      "image/png": "[encoded data removed]",
      "text/plain": [
       "<matplotlib.figure.Figure at 0x7f03292a6630>"
      ]
     },
     "metadata": {},
     "output_type": "display_data"
    }
   ],
   "source": [
    "bldgs.where(\n",
    "    (bldgs[\"YEAR\"] != 0) & ((bldgs[\"YEAR\"]>1969) | (bldgs[\"YEAR\"]<1953))\n",
    ").groupby(\"YEAR\").ADDR.nunique().plot.bar()"
   ]
  },
  {
   "cell_type": "code",
   "execution_count": 176,
   "metadata": {
    "scrolled": true
   },
   "outputs": [
    {
     "data": {
      "text/plain": [
       "<matplotlib.axes._subplots.AxesSubplot at 0x7f0328c66400>"
      ]
     },
     "execution_count": 176,
     "metadata": {},
     "output_type": "execute_result"
    },
    {
     "data": {
      "image/png": "[encoded data removed]",
      "text/plain": [
       "<matplotlib.figure.Figure at 0x7f0328d35438>"
      ]
     },
     "metadata": {},
     "output_type": "display_data"
    }
   ],
   "source": [
    "bldgs.groupby(\"LEVELS_MAX\").ADDR.nunique().plot.bar()"
   ]
  },
  {
   "cell_type": "code",
   "execution_count": 174,
   "metadata": {},
   "outputs": [
    {
     "data": {
      "text/plain": [
       "<matplotlib.axes._subplots.AxesSubplot at 0x7f0328ccb9b0>"
      ]
     },
     "execution_count": 174,
     "metadata": {},
     "output_type": "execute_result"
    },
    {
     "data": {
      "image/png": "[encoded data removed]",
      "text/plain": [
       "<matplotlib.figure.Figure at 0x7f03290a0080>"
      ]
     },
     "metadata": {},
     "output_type": "display_data"
    }
   ],
   "source": [
    "bldgs.where(bldgs[\"LEVELS_MAX\"]!=5).groupby(\"LEVELS_MAX\").ADDR.nunique().plot.bar()"
   ]
  },
  {
   "cell_type": "code",
   "execution_count": 175,
   "metadata": {},
   "outputs": [
    {
     "data": {
      "text/plain": [
       "<matplotlib.axes._subplots.AxesSubplot at 0x7f032b569470>"
      ]
     },
     "execution_count": 175,
     "metadata": {},
     "output_type": "execute_result"
    },
    {
     "data": {
      "image/png": "[encoded data removed]",
      "text/plain": [
       "<matplotlib.figure.Figure at 0x7f0329d10128>"
      ]
     },
     "metadata": {},
     "output_type": "display_data"
    }
   ],
   "source": [
    "bb = bldgs.groupby(\"SERIE\")[\"ADDR\"].size()\n",
    "bb[bb>5].sort_values(ascending=False).plot.bar()"
   ]
  },
  {
   "cell_type": "code",
   "execution_count": null,
   "metadata": {
    "collapsed": true
   },
   "outputs": [],
   "source": []
  },
  {
   "cell_type": "code",
   "execution_count": null,
   "metadata": {
    "collapsed": true
   },
   "outputs": [],
   "source": []
  }
 ],
 "metadata": {
  "kernelspec": {
   "display_name": "Python 3",
   "language": "python",
   "name": "python3"
  },
  "language_info": {
   "codemirror_mode": {
    "name": "ipython",
    "version": 3
   },
   "file_extension": ".py",
   "mimetype": "text/x-python",
   "name": "python",
   "nbconvert_exporter": "python",
   "pygments_lexer": "ipython3",
   "version": "3.5.2"
  }
 },
 "nbformat": 4,
 "nbformat_minor": 2
}
